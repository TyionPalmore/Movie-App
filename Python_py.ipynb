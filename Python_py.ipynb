{
  "nbformat": 4,
  "nbformat_minor": 0,
  "metadata": {
    "colab": {
      "provenance": [],
      "authorship_tag": "ABX9TyMhBdmnqohj9r8gCndIniF3",
      "include_colab_link": true
    },
    "kernelspec": {
      "name": "python3",
      "display_name": "Python 3"
    },
    "language_info": {
      "name": "python"
    }
  },
  "cells": [
    {
      "cell_type": "markdown",
      "metadata": {
        "id": "view-in-github",
        "colab_type": "text"
      },
      "source": [
        "<a href=\"https://colab.research.google.com/github/TyionPalmore/Movie-App/blob/main/Python_py.ipynb\" target=\"_parent\"><img src=\"https://colab.research.google.com/assets/colab-badge.svg\" alt=\"Open In Colab\"/></a>"
      ]
    },
    {
      "cell_type": "code",
      "source": [
        "def show_menu():\n",
        "  print(\"To-Do List\")\n",
        "  print(\"------------\")\n",
        "  print(\"1. View Tasks\")\n",
        "  print(\"2. Add a Task\")\n",
        "  print(\"3. Delete a Task\")\n",
        "  print(\"4. Edit a Task\")\n",
        "  print(\"5. Exit\")\n",
        "\n",
        "\n",
        "def main():\n",
        "  while True: # Keeps the program running until user exits\n",
        "      show_menu()\n",
        "      choice = input(\"Enter your choice (1-5): \")\n",
        "\n",
        "      if choice == '1':\n",
        "        print(\"Viewing Tasks...\")\n",
        "      elif choice == '2':\n",
        "        print(\"Adding a Task...\")\n",
        "      elif choice == '3':\n",
        "        print(\"Deleting a Task...\")\n",
        "      elif choice == '4':\n",
        "        print(\"Editing a Task...\")\n",
        "      elif choice == '5':\n",
        "        print(\"Exiting the application. Goodbye!\")\n",
        "        break # Exit the loop and end the program\n",
        "      else:\n",
        "        print(\"Invalid choice. Please enter a number between 1 and 5.\")\n"
      ],
      "metadata": {
        "id": "geXTE6mfUyXV"
      },
      "execution_count": null,
      "outputs": []
    }
  ]
}